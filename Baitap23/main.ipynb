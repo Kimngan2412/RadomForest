{
 "cells": [
  {
   "cell_type": "code",
   "execution_count": 22,
   "metadata": {},
   "outputs": [],
   "source": [
    "import numpy as np \n",
    "import pandas as pd \n",
    "from matplotlib import pyplot as plt\n",
    "from matplotlib.ticker import PercentFormatter\n",
    "from sklearn.model_selection import train_test_split\n",
    "from sklearn.ensemble import RandomForestClassifier, BaggingClassifier,VotingClassifier\n",
    "from sklearn.model_selection import GridSearchCV, RandomizedSearchCV\n",
    "from sklearn.svm import SVC\n",
    "from sklearn.neighbors import KNeighborsClassifier\n",
    "from sklearn.preprocessing import Normalizer, MinMaxScaler, StandardScaler, RobustScaler\n",
    "from sklearn.decomposition import PCA\n",
    "from sklearn.metrics import accuracy_score\n",
    "import os"
   ]
  },
  {
   "cell_type": "markdown",
   "metadata": {},
   "source": [
    "#### Đọc dữ liệu "
   ]
  },
  {
   "cell_type": "code",
   "execution_count": 23,
   "metadata": {},
   "outputs": [
    {
     "data": {
      "text/plain": [
       "(2000, 22)"
      ]
     },
     "execution_count": 23,
     "metadata": {},
     "output_type": "execute_result"
    }
   ],
   "source": [
    "data = pd.read_csv(\"train.csv\").reset_index()\n",
    "data.shape"
   ]
  },
  {
   "cell_type": "markdown",
   "metadata": {},
   "source": [
    " \n",
    "- battery_power : tổng năng lượng mà pin có thể lưu trữ (mAh)\n",
    "- blue : hổ trợ bluetooth (0-1)\n",
    "- clock_speed : tốc độ mà bộ vi xử lý thực hiện các lệnh\n",
    "- dual_sim : hổ trợ hai sim (0-1)\n",
    "- fc : camera trước (mega pixel)\n",
    "- four_g : hổ trợ 4G (0-1)\n",
    "- int_memory : bộ nhớ trong (Gb)\n",
    "- m_deep : chiều sâu của máy (cm)\n",
    "- mobile_wt : trọng lượng của máy (g)"
   ]
  },
  {
   "cell_type": "code",
   "execution_count": 24,
   "metadata": {},
   "outputs": [
    {
     "data": {
      "text/html": [
       "<div>\n",
       "<style scoped>\n",
       "    .dataframe tbody tr th:only-of-type {\n",
       "        vertical-align: middle;\n",
       "    }\n",
       "\n",
       "    .dataframe tbody tr th {\n",
       "        vertical-align: top;\n",
       "    }\n",
       "\n",
       "    .dataframe thead th {\n",
       "        text-align: right;\n",
       "    }\n",
       "</style>\n",
       "<table border=\"1\" class=\"dataframe\">\n",
       "  <thead>\n",
       "    <tr style=\"text-align: right;\">\n",
       "      <th></th>\n",
       "      <th>index</th>\n",
       "      <th>battery_power</th>\n",
       "      <th>blue</th>\n",
       "      <th>clock_speed</th>\n",
       "      <th>dual_sim</th>\n",
       "      <th>fc</th>\n",
       "      <th>four_g</th>\n",
       "      <th>int_memory</th>\n",
       "      <th>m_dep</th>\n",
       "      <th>mobile_wt</th>\n",
       "      <th>...</th>\n",
       "      <th>px_height</th>\n",
       "      <th>px_width</th>\n",
       "      <th>ram</th>\n",
       "      <th>sc_h</th>\n",
       "      <th>sc_w</th>\n",
       "      <th>talk_time</th>\n",
       "      <th>three_g</th>\n",
       "      <th>touch_screen</th>\n",
       "      <th>wifi</th>\n",
       "      <th>price_range</th>\n",
       "    </tr>\n",
       "  </thead>\n",
       "  <tbody>\n",
       "    <tr>\n",
       "      <th>0</th>\n",
       "      <td>0</td>\n",
       "      <td>842</td>\n",
       "      <td>0</td>\n",
       "      <td>2.2</td>\n",
       "      <td>0</td>\n",
       "      <td>1</td>\n",
       "      <td>0</td>\n",
       "      <td>7</td>\n",
       "      <td>0.6</td>\n",
       "      <td>188</td>\n",
       "      <td>...</td>\n",
       "      <td>20</td>\n",
       "      <td>756</td>\n",
       "      <td>2549</td>\n",
       "      <td>9</td>\n",
       "      <td>7</td>\n",
       "      <td>19</td>\n",
       "      <td>0</td>\n",
       "      <td>0</td>\n",
       "      <td>1</td>\n",
       "      <td>1</td>\n",
       "    </tr>\n",
       "    <tr>\n",
       "      <th>1</th>\n",
       "      <td>1</td>\n",
       "      <td>1021</td>\n",
       "      <td>1</td>\n",
       "      <td>0.5</td>\n",
       "      <td>1</td>\n",
       "      <td>0</td>\n",
       "      <td>1</td>\n",
       "      <td>53</td>\n",
       "      <td>0.7</td>\n",
       "      <td>136</td>\n",
       "      <td>...</td>\n",
       "      <td>905</td>\n",
       "      <td>1988</td>\n",
       "      <td>2631</td>\n",
       "      <td>17</td>\n",
       "      <td>3</td>\n",
       "      <td>7</td>\n",
       "      <td>1</td>\n",
       "      <td>1</td>\n",
       "      <td>0</td>\n",
       "      <td>2</td>\n",
       "    </tr>\n",
       "    <tr>\n",
       "      <th>2</th>\n",
       "      <td>2</td>\n",
       "      <td>563</td>\n",
       "      <td>1</td>\n",
       "      <td>0.5</td>\n",
       "      <td>1</td>\n",
       "      <td>2</td>\n",
       "      <td>1</td>\n",
       "      <td>41</td>\n",
       "      <td>0.9</td>\n",
       "      <td>145</td>\n",
       "      <td>...</td>\n",
       "      <td>1263</td>\n",
       "      <td>1716</td>\n",
       "      <td>2603</td>\n",
       "      <td>11</td>\n",
       "      <td>2</td>\n",
       "      <td>9</td>\n",
       "      <td>1</td>\n",
       "      <td>1</td>\n",
       "      <td>0</td>\n",
       "      <td>2</td>\n",
       "    </tr>\n",
       "    <tr>\n",
       "      <th>3</th>\n",
       "      <td>3</td>\n",
       "      <td>615</td>\n",
       "      <td>1</td>\n",
       "      <td>2.5</td>\n",
       "      <td>0</td>\n",
       "      <td>0</td>\n",
       "      <td>0</td>\n",
       "      <td>10</td>\n",
       "      <td>0.8</td>\n",
       "      <td>131</td>\n",
       "      <td>...</td>\n",
       "      <td>1216</td>\n",
       "      <td>1786</td>\n",
       "      <td>2769</td>\n",
       "      <td>16</td>\n",
       "      <td>8</td>\n",
       "      <td>11</td>\n",
       "      <td>1</td>\n",
       "      <td>0</td>\n",
       "      <td>0</td>\n",
       "      <td>2</td>\n",
       "    </tr>\n",
       "    <tr>\n",
       "      <th>4</th>\n",
       "      <td>4</td>\n",
       "      <td>1821</td>\n",
       "      <td>1</td>\n",
       "      <td>1.2</td>\n",
       "      <td>0</td>\n",
       "      <td>13</td>\n",
       "      <td>1</td>\n",
       "      <td>44</td>\n",
       "      <td>0.6</td>\n",
       "      <td>141</td>\n",
       "      <td>...</td>\n",
       "      <td>1208</td>\n",
       "      <td>1212</td>\n",
       "      <td>1411</td>\n",
       "      <td>8</td>\n",
       "      <td>2</td>\n",
       "      <td>15</td>\n",
       "      <td>1</td>\n",
       "      <td>1</td>\n",
       "      <td>0</td>\n",
       "      <td>1</td>\n",
       "    </tr>\n",
       "  </tbody>\n",
       "</table>\n",
       "<p>5 rows × 22 columns</p>\n",
       "</div>"
      ],
      "text/plain": [
       "   index  battery_power  blue  clock_speed  dual_sim  fc  four_g  int_memory  \\\n",
       "0      0            842     0          2.2         0   1       0           7   \n",
       "1      1           1021     1          0.5         1   0       1          53   \n",
       "2      2            563     1          0.5         1   2       1          41   \n",
       "3      3            615     1          2.5         0   0       0          10   \n",
       "4      4           1821     1          1.2         0  13       1          44   \n",
       "\n",
       "   m_dep  mobile_wt  ...  px_height  px_width   ram  sc_h  sc_w  talk_time  \\\n",
       "0    0.6        188  ...         20       756  2549     9     7         19   \n",
       "1    0.7        136  ...        905      1988  2631    17     3          7   \n",
       "2    0.9        145  ...       1263      1716  2603    11     2          9   \n",
       "3    0.8        131  ...       1216      1786  2769    16     8         11   \n",
       "4    0.6        141  ...       1208      1212  1411     8     2         15   \n",
       "\n",
       "   three_g  touch_screen  wifi  price_range  \n",
       "0        0             0     1            1  \n",
       "1        1             1     0            2  \n",
       "2        1             1     0            2  \n",
       "3        1             0     0            2  \n",
       "4        1             1     0            1  \n",
       "\n",
       "[5 rows x 22 columns]"
      ]
     },
     "execution_count": 24,
     "metadata": {},
     "output_type": "execute_result"
    }
   ],
   "source": [
    "data.head()"
   ]
  },
  {
   "cell_type": "code",
   "execution_count": 25,
   "metadata": {},
   "outputs": [],
   "source": [
    "# Categorical features\n",
    "cat_vals = [\"blue\", \"dual_sim\", \"four_g\", \"wifi\", \"touch_screen\", \"three_g\"] \n",
    "# Numerical features\n",
    "num_vals = [\"battery_power\", \"clock_speed\", \"fc\", \"int_memory\", \"m_dep\", \"mobile_wt\",\n",
    "            \"n_cores\", \"pc\", \"px_height\", \"px_width\", \"ram\",\n",
    "            'sc_h', 'sc_w', 'talk_time'\n",
    "           ]"
   ]
  },
  {
   "cell_type": "code",
   "execution_count": 26,
   "metadata": {},
   "outputs": [],
   "source": [
    "# features\n",
    "X = data[data.columns[1:-1]]\n",
    "# target\n",
    "Y = data[[\"price_range\"]]"
   ]
  },
  {
   "cell_type": "code",
   "execution_count": 27,
   "metadata": {},
   "outputs": [],
   "source": [
    "# Categorical features\n",
    "X_cat = X[cat_vals]\n",
    "# Numerical features\n",
    "X_num = X[num_vals]"
   ]
  },
  {
   "cell_type": "markdown",
   "metadata": {},
   "source": [
    "## Principal component analysis (Phân tích thành phần chính)"
   ]
  },
  {
   "cell_type": "markdown",
   "metadata": {},
   "source": [
    "#### PCA - Categorical\n"
   ]
  },
  {
   "cell_type": "code",
   "execution_count": 28,
   "metadata": {},
   "outputs": [],
   "source": [
    "pca = PCA(n_components=6)\n",
    "pca.fit(X_cat)\n",
    "X_transf= pca.transform(X_cat)"
   ]
  },
  {
   "cell_type": "markdown",
   "metadata": {},
   "source": [
    "#### PCA - Numerical"
   ]
  },
  {
   "cell_type": "code",
   "execution_count": 29,
   "metadata": {},
   "outputs": [],
   "source": [
    "scaler = MinMaxScaler()\n",
    "X_num_scaled = scaler.fit_transform(X_num)\n",
    "pca = PCA(n_components=14)\n",
    "X_transf= pca.fit_transform(X_num_scaled)"
   ]
  },
  {
   "cell_type": "code",
   "execution_count": 30,
   "metadata": {},
   "outputs": [],
   "source": [
    "pca = PCA(n_components=6)\n",
    "X_transf= pca.fit_transform(X_num)"
   ]
  },
  {
   "cell_type": "code",
   "execution_count": 31,
   "metadata": {},
   "outputs": [],
   "source": [
    "pca = PCA(n_components=4)\n",
    "X_transf= pca.fit_transform(X_num)\n",
    "data[\"X_PCA1\"] = X_transf[:, 0]\n",
    "data[\"X_PCA2\"] = X_transf[:, 1]\n",
    "data[\"X_PCA3\"] = X_transf[:, 2]\n",
    "data[\"X_PCA4\"] = X_transf[:, 3]"
   ]
  },
  {
   "cell_type": "code",
   "execution_count": 32,
   "metadata": {},
   "outputs": [
    {
     "data": {
      "text/html": [
       "<div>\n",
       "<style scoped>\n",
       "    .dataframe tbody tr th:only-of-type {\n",
       "        vertical-align: middle;\n",
       "    }\n",
       "\n",
       "    .dataframe tbody tr th {\n",
       "        vertical-align: top;\n",
       "    }\n",
       "\n",
       "    .dataframe thead th {\n",
       "        text-align: right;\n",
       "    }\n",
       "</style>\n",
       "<table border=\"1\" class=\"dataframe\">\n",
       "  <thead>\n",
       "    <tr style=\"text-align: right;\">\n",
       "      <th></th>\n",
       "      <th>X_PCA1</th>\n",
       "      <th>X_PCA2</th>\n",
       "      <th>X_PCA3</th>\n",
       "      <th>X_PCA4</th>\n",
       "      <th>blue</th>\n",
       "      <th>dual_sim</th>\n",
       "      <th>four_g</th>\n",
       "      <th>wifi</th>\n",
       "      <th>touch_screen</th>\n",
       "      <th>three_g</th>\n",
       "    </tr>\n",
       "  </thead>\n",
       "  <tbody>\n",
       "    <tr>\n",
       "      <th>0</th>\n",
       "      <td>430.597105</td>\n",
       "      <td>-795.788278</td>\n",
       "      <td>-390.070331</td>\n",
       "      <td>55.636198</td>\n",
       "      <td>0</td>\n",
       "      <td>0</td>\n",
       "      <td>0</td>\n",
       "      <td>1</td>\n",
       "      <td>0</td>\n",
       "      <td>0</td>\n",
       "    </tr>\n",
       "    <tr>\n",
       "      <th>1</th>\n",
       "      <td>504.984729</td>\n",
       "      <td>696.622407</td>\n",
       "      <td>-235.629077</td>\n",
       "      <td>343.925952</td>\n",
       "      <td>1</td>\n",
       "      <td>1</td>\n",
       "      <td>1</td>\n",
       "      <td>0</td>\n",
       "      <td>1</td>\n",
       "      <td>1</td>\n",
       "    </tr>\n",
       "    <tr>\n",
       "      <th>2</th>\n",
       "      <td>473.329822</td>\n",
       "      <td>763.942174</td>\n",
       "      <td>-680.059464</td>\n",
       "      <td>-113.916908</td>\n",
       "      <td>1</td>\n",
       "      <td>1</td>\n",
       "      <td>1</td>\n",
       "      <td>0</td>\n",
       "      <td>1</td>\n",
       "      <td>1</td>\n",
       "    </tr>\n",
       "    <tr>\n",
       "      <th>3</th>\n",
       "      <td>639.822326</td>\n",
       "      <td>779.691218</td>\n",
       "      <td>-630.783687</td>\n",
       "      <td>-30.402214</td>\n",
       "      <td>1</td>\n",
       "      <td>0</td>\n",
       "      <td>0</td>\n",
       "      <td>0</td>\n",
       "      <td>0</td>\n",
       "      <td>1</td>\n",
       "    </tr>\n",
       "    <tr>\n",
       "      <th>4</th>\n",
       "      <td>-718.985171</td>\n",
       "      <td>382.304561</td>\n",
       "      <td>591.040320</td>\n",
       "      <td>-392.357215</td>\n",
       "      <td>1</td>\n",
       "      <td>0</td>\n",
       "      <td>1</td>\n",
       "      <td>0</td>\n",
       "      <td>1</td>\n",
       "      <td>1</td>\n",
       "    </tr>\n",
       "  </tbody>\n",
       "</table>\n",
       "</div>"
      ],
      "text/plain": [
       "       X_PCA1      X_PCA2      X_PCA3      X_PCA4  blue  dual_sim  four_g  \\\n",
       "0  430.597105 -795.788278 -390.070331   55.636198     0         0       0   \n",
       "1  504.984729  696.622407 -235.629077  343.925952     1         1       1   \n",
       "2  473.329822  763.942174 -680.059464 -113.916908     1         1       1   \n",
       "3  639.822326  779.691218 -630.783687  -30.402214     1         0       0   \n",
       "4 -718.985171  382.304561  591.040320 -392.357215     1         0       1   \n",
       "\n",
       "   wifi  touch_screen  three_g  \n",
       "0     1             0        0  \n",
       "1     0             1        1  \n",
       "2     0             1        1  \n",
       "3     0             0        1  \n",
       "4     0             1        1  "
      ]
     },
     "execution_count": 32,
     "metadata": {},
     "output_type": "execute_result"
    }
   ],
   "source": [
    "# feature is now made of the four components of the PCA and the categorical values\n",
    "features = [\"X_PCA1\", \"X_PCA2\", \"X_PCA3\", \"X_PCA4\"] + cat_vals\n",
    "X_training = data[features]\n",
    "X_training.head()"
   ]
  },
  {
   "cell_type": "code",
   "execution_count": 33,
   "metadata": {},
   "outputs": [],
   "source": [
    "# Chia dữ liệu ra Train - Test 67% 33%\n",
    "X_train, X_test, y_train, y_test = train_test_split(X_training, Y, test_size=0.33,random_state=0)"
   ]
  },
  {
   "cell_type": "code",
   "execution_count": 34,
   "metadata": {},
   "outputs": [
    {
     "name": "stdout",
     "output_type": "stream",
     "text": [
      "      price_range\n",
      "295             1\n",
      "364             0\n",
      "862             2\n",
      "1751            1\n",
      "1403            2\n",
      "...           ...\n",
      "835             3\n",
      "1216            1\n",
      "1653            3\n",
      "559             0\n",
      "684             1\n",
      "\n",
      "[1340 rows x 1 columns]\n",
      "[1 0 2 ... 3 0 1]\n"
     ]
    }
   ],
   "source": [
    "# Change y shape for RandomForestClassifier\n",
    "# ravel dàn phẳng từ mảng hai chiều sang mảng một chiều\n",
    "y_train_fit = y_train.to_numpy().ravel()\n",
    "print(y_train)\n",
    "print(y_train_fit)"
   ]
  },
  {
   "cell_type": "markdown",
   "metadata": {},
   "source": [
    "## Random Forest (với tham số mặc định)"
   ]
  },
  {
   "cell_type": "code",
   "execution_count": 35,
   "metadata": {},
   "outputs": [
    {
     "data": {
      "text/plain": [
       "RandomForestClassifier(random_state=0)"
      ]
     },
     "execution_count": 35,
     "metadata": {},
     "output_type": "execute_result"
    }
   ],
   "source": [
    "clf_RDF = RandomForestClassifier(random_state=0)\n",
    "clf_RDF.fit(X_train, y_train_fit) # là một kiểu đối tượng RandomForestClassifier"
   ]
  },
  {
   "cell_type": "code",
   "execution_count": 36,
   "metadata": {},
   "outputs": [
    {
     "name": "stdout",
     "output_type": "stream",
     "text": [
      "0.9045454545454545\n"
     ]
    }
   ],
   "source": [
    "y_pred = clf_RDF.predict(X_test)\n",
    "rs = accuracy_score(y_test,y_pred)\n",
    "print(rs)"
   ]
  },
  {
   "cell_type": "markdown",
   "metadata": {},
   "source": [
    " ##  Grid Search ( đi tìm siêu tham số)\n"
   ]
  },
  {
   "cell_type": "code",
   "execution_count": 37,
   "metadata": {},
   "outputs": [
    {
     "name": "stdout",
     "output_type": "stream",
     "text": [
      "{'criterion': 'gini', 'max_depth': 15, 'min_samples_split': 2}\n",
      "0.8843283582089553\n"
     ]
    }
   ],
   "source": [
    "parameters = {'criterion':('gini', 'entropy'), 'max_depth':[None, 2, 5, 10, 15], \"min_samples_split\":(2, 3, 4) }\n",
    "X_train, X_test, y_train, y_test = train_test_split(X_training, Y, test_size=0.33,random_state=0)\n",
    "y_train_fit = y_train.to_numpy().ravel()\n",
    "model = RandomForestClassifier(random_state=0)\n",
    "clf = GridSearchCV(model, parameters)\n",
    "clf.fit(X_train, y_train_fit)\n",
    "print(clf.best_params_)\n",
    "print(clf.best_score_)"
   ]
  },
  {
   "cell_type": "markdown",
   "metadata": {},
   "source": [
    "## Random Forest với siêu tham số"
   ]
  },
  {
   "cell_type": "code",
   "execution_count": 38,
   "metadata": {},
   "outputs": [
    {
     "name": "stdout",
     "output_type": "stream",
     "text": [
      "0.9045454545454545\n"
     ]
    }
   ],
   "source": [
    "model = RandomForestClassifier(random_state=0,criterion=clf.best_params_['criterion'], max_depth= clf.best_params_['max_depth'], min_samples_split=clf.best_params_['min_samples_split'])\n",
    "X_train, X_test, y_train, y_test = train_test_split(X_training, Y, test_size=0.33,random_state=0)\n",
    "y_train_fit = y_train.to_numpy().ravel()\n",
    "model.fit(X_train, y_train_fit)\n",
    "y_pred = model.predict(X_test)\n",
    "# print(model.score(X_test,y_test))\n",
    "rs = accuracy_score(y_test,y_pred)\n",
    "print(rs)"
   ]
  },
  {
   "cell_type": "markdown",
   "metadata": {},
   "source": [
    "## Chuẩn hóa dữ liệu "
   ]
  },
  {
   "cell_type": "code",
   "execution_count": 39,
   "metadata": {},
   "outputs": [
    {
     "name": "stdout",
     "output_type": "stream",
     "text": [
      "0.906060606060606\n"
     ]
    }
   ],
   "source": [
    "X_train, X_test, y_train, y_test = train_test_split(X_training, Y, test_size=0.33,random_state=0)\n",
    "y_train_fit = y_train.to_numpy().ravel()\n",
    "scaler = MinMaxScaler()\n",
    "scaler.fit(X_train)\n",
    "X_train = scaler.transform(X_train)\n",
    "X_test = scaler.transform(X_test)\n",
    "\n",
    "model = RandomForestClassifier(random_state=0, criterion=clf.best_params_['criterion'], max_depth= clf.best_params_['max_depth'], min_samples_split=clf.best_params_['min_samples_split'])\n",
    "model.fit(X_train, y_train_fit)\n",
    "print(model.score(X_test,y_test))"
   ]
  }
 ],
 "metadata": {
  "interpreter": {
   "hash": "f6c8f846148a3e4d140e6ddf63c190cff559dcf260a4a21539f0978f2b58638c"
  },
  "kernelspec": {
   "display_name": "Python 3.9.7 64-bit",
   "language": "python",
   "name": "python3"
  },
  "language_info": {
   "codemirror_mode": {
    "name": "ipython",
    "version": 3
   },
   "file_extension": ".py",
   "mimetype": "text/x-python",
   "name": "python",
   "nbconvert_exporter": "python",
   "pygments_lexer": "ipython3",
   "version": "3.9.7"
  },
  "orig_nbformat": 4
 },
 "nbformat": 4,
 "nbformat_minor": 2
}
